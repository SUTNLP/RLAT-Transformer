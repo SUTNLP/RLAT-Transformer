{
  "nbformat": 4,
  "nbformat_minor": 0,
  "metadata": {
    "colab": {
      "provenance": []
    },
    "kernelspec": {
      "name": "python3",
      "display_name": "Python 3"
    },
    "language_info": {
      "name": "python"
    },
    "accelerator": "GPU",
    "gpuClass": "standard"
  },
  "cells": [
    {
      "cell_type": "code",
      "execution_count": null,
      "metadata": {
        "id": "L5Y2w1BFt0t4"
      },
      "outputs": [],
      "source": [
        "! wget https://raw.githubusercontent.com/rewire-online/edos/main/data/edos_labelled_aggregated.csv\n",
        "! pip install transformers\n",
        "! pip install optuna\n",
        "! pip install sentencepiece\n",
        "! pip install gdown\n",
        "! pip install sentence-transformers\n",
        "\n",
        "! gdown \"1UjEYJOauAanJ0UzuSRrCVLn6GHvJyWus&confirm=t\"\n",
        "! gdown --id 16YwJWsljY2r2R4Fzh4xLilSbPjowlZr_\n",
        "! gdown --id 1YDr6ejvJPiQL3HAWR7i71GanzWsfxlQo\n",
        "! gdown --id 11hYRWLmxyWd3j-rQsKTPS1fCuQvSFWcl\n",
        "! gdown --id 1z2FvuIDZPUTKXJ0_Z6VBvFEzRteTLIa5\n",
        "! gdown --id 1hEX89Ffv_lu8uIoOuX5trX0RqYFiI0Of\n",
        "! gdown --id 1MD4pEghAgkpkxhr9Tyx_cEqGggki_XBu\n",
        "! gdown --id 1zCW194SsKQ6U3sUEJ1eB7PiIKcOfdki0\n",
        "! gdown --id 1yh77Xp7mwjjaYrPX6Y8OQchXSSqYIso-\n",
        "\n",
        "! gdown --id 1EKFujUoPzVspdwoNSFsLvw9HBOUMZ1ys\n",
        "! gdown --id 1oDHszlQtjfYOXpe6_v3zdptm5al2FQkl\n",
        "\n",
        "! yes A | unzip train_data.zip\n",
        "! unzip eval_A.zip\n",
        "! unzip eval_B.zip\n",
        "! unzip eval_C.zip"
      ]
    },
    {
      "cell_type": "code",
      "source": [
        "! python Task_10_C.py"
      ],
      "metadata": {
        "colab": {
          "base_uri": "https://localhost:8080/"
        },
        "id": "efcH_C6nt2je",
        "outputId": "437b21b3-d6d0-4e9d-b170-b334408ec59f"
      },
      "execution_count": null,
      "outputs": [
        {
          "output_type": "stream",
          "name": "stdout",
          "text": [
            "Traceback (most recent call last):\n",
            "  File \"Task_10_C.py\", line 444, in <module>\n",
            "    train(train_dataloader, sexist_model, device, loss_fn, optimizer, scheduler, 1, None)\n",
            "  File \"Task_10_C.py\", line 303, in train\n",
            "    loss_adv.backward()\n",
            "  File \"/usr/local/lib/python3.8/dist-packages/torch/_tensor.py\", line 488, in backward\n",
            "    torch.autograd.backward(\n",
            "  File \"/usr/local/lib/python3.8/dist-packages/torch/autograd/__init__.py\", line 197, in backward\n",
            "    Variable._execution_engine.run_backward(  # Calls into the C++ engine to run the backward pass\n",
            "KeyboardInterrupt\n",
            "^C\n"
          ]
        }
      ]
    }
  ]
}